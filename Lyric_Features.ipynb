{
 "cells": [
  {
   "cell_type": "code",
   "execution_count": 2,
   "metadata": {},
   "outputs": [],
   "source": [
    "import string\n",
    "import syllapy\n",
    "import numpy as np\n",
    "from nltk.sentiment.vader import SentimentIntensityAnalyzer\n",
    "from nltk.corpus import stopwords\n",
    "from collections import defaultdict\n",
    "import pandas as pd\n",
    "import os\n",
    "\n",
    "sw = stopwords.words('english')\n",
    "sentiment_analyzer = SentimentIntensityAnalyzer()\n",
    "\n",
    "duration_file = open('song_durations.txt','r',encoding='utf-8')\n",
    "duration_dict = {}\n",
    "next(duration_file)\n",
    "for line in duration_file:\n",
    "    song_id, duration = line.split()\n",
    "    song_id = int(song_id)\n",
    "    duration = float(duration)\n",
    "    if duration != 0:\n",
    "        duration_dict[song_id]=duration\n",
    "    else:\n",
    "        duration_dict[song_id]=np.nan\n",
    "    \n"
   ]
  },
  {
   "cell_type": "code",
   "execution_count": 3,
   "metadata": {},
   "outputs": [],
   "source": [
    "def lyric_features(song,sw,sentiment_analyzer,song_id, durations):\n",
    "    feature_dict={} #store our features in a dictionary\n",
    "    \n",
    "    duration = durations[song_id]\n",
    "    \n",
    "    song = song.lower().translate(str.maketrans('', '', string.punctuation))\n",
    "    lines = song.split('\\n')#split by line\n",
    "    lines = [line for line in lines if line != ''] #remove blank lines\n",
    "    number_lines=len(lines)\n",
    "    if number_lines==0:\n",
    "        number_lines=np.nan\n",
    "    \n",
    "    syllables = [syllapy.count(line) for line in lines] #syllable estimate by line\n",
    "    syllables_per_line = sum(syllables)/number_lines\n",
    "    syllables_variance = np.var(syllables)\n",
    "    \n",
    "    tokens = [line.split() for line in lines] #split line into tokens\n",
    "    tokens_per_line = [len(line) for line in tokens]\n",
    "    tokens=[token for line in tokens for token in line] #flatten our token list\n",
    "    \n",
    "    unique_tokens = set([token for token in tokens if token not in sw])\n",
    "    number_tokens = len(tokens)\n",
    "    if number_tokens==0:\n",
    "        number_tokens=np.nan\n",
    "    lexical_diversity = len(unique_tokens)/number_tokens\n",
    "    \n",
    "    sentiment = sentiment_analyzer.polarity_scores(song) #sentiment analysis\n",
    "    sentiment = sentiment['compound']\n",
    "    \n",
    "    tokens_per_second = len(tokens)/duration\n",
    "    syllables_per_second = sum(syllables)/duration\n",
    "    \n",
    "    #construct dictionary\n",
    "    feature_dict['duration']=duration\n",
    "    feature_dict['number_lines']=number_lines\n",
    "    feature_dict['syllables_per_line']=syllables_per_line\n",
    "    feature_dict['syllables_variance']=syllables_variance\n",
    "    feature_dict['number_tokens']=number_tokens\n",
    "    feature_dict['unique_tokens'] = len(unique_tokens)\n",
    "    feature_dict['lexical_diversity']=lexical_diversity\n",
    "    feature_dict['sentiment']=sentiment\n",
    "    feature_dict['tokens_per_second']=tokens_per_second\n",
    "    feature_dict['syllables_per_second']=syllables_per_second\n",
    "    return feature_dict\n",
    "    \n",
    "    "
   ]
  },
  {
   "cell_type": "code",
   "execution_count": 9,
   "metadata": {
    "scrolled": true
   },
   "outputs": [
    {
     "name": "stdout",
     "output_type": "stream",
     "text": [
      "0 songs completed\n"
     ]
    },
    {
     "name": "stderr",
     "output_type": "stream",
     "text": [
      "C:\\Users\\conno\\anaconda3\\lib\\site-packages\\numpy\\core\\fromnumeric.py:3583: RuntimeWarning: Degrees of freedom <= 0 for slice\n",
      "  return _methods._var(a, axis=axis, dtype=dtype, out=out, ddof=ddof,\n",
      "C:\\Users\\conno\\anaconda3\\lib\\site-packages\\numpy\\core\\_methods.py:185: RuntimeWarning: invalid value encountered in true_divide\n",
      "  arrmean = um.true_divide(\n",
      "C:\\Users\\conno\\anaconda3\\lib\\site-packages\\numpy\\core\\_methods.py:209: RuntimeWarning: invalid value encountered in double_scalars\n",
      "  ret = ret.dtype.type(ret / rcount)\n"
     ]
    },
    {
     "name": "stdout",
     "output_type": "stream",
     "text": [
      "5000 songs completed\n",
      "10000 songs completed\n",
      "15000 songs completed\n",
      "20000 songs completed\n",
      "25000 songs completed\n",
      "30000 songs completed\n",
      "35000 songs completed\n",
      "40000 songs completed\n",
      "45000 songs completed\n",
      "50000 songs completed\n",
      "55000 songs completed\n",
      "60000 songs completed\n",
      "65000 songs completed\n",
      "70000 songs completed\n",
      "75000 songs completed\n",
      "80000 songs completed\n",
      "85000 songs completed\n",
      "90000 songs completed\n",
      "95000 songs completed\n",
      "100000 songs completed\n",
      "105000 songs completed\n",
      "110000 songs completed\n"
     ]
    }
   ],
   "source": [
    "directory = r'Lyrics\\\\'\n",
    "\n",
    "song_dict={}\n",
    "n=0\n",
    "for filename in os.listdir(directory):\n",
    "    song_id = int(filename.split('_')[0])\n",
    "    song=open('Lyrics\\\\'+filename,'r',encoding='utf-8').read()\n",
    "    song_features = lyric_features(song,sw,sentiment_analyzer,song_id,duration_dict)\n",
    "    song_dict[song_id]=song_features\n",
    "    \n",
    "    if n%5000==0:\n",
    "        print(str(n)+' songs completed')\n",
    "        \n",
    "    n+=1"
   ]
  },
  {
   "cell_type": "code",
   "execution_count": 17,
   "metadata": {},
   "outputs": [],
   "source": [
    "feature_df = pd.DataFrame.from_dict(song_dict, orient='index')\n",
    "\n",
    "feature_df.to_csv('song_features.csv') #make sure to use index_col =0 when reading in file"
   ]
  },
  {
   "cell_type": "code",
   "execution_count": null,
   "metadata": {},
   "outputs": [],
   "source": []
  }
 ],
 "metadata": {
  "kernelspec": {
   "display_name": "Python 3",
   "language": "python",
   "name": "python3"
  },
  "language_info": {
   "codemirror_mode": {
    "name": "ipython",
    "version": 3
   },
   "file_extension": ".py",
   "mimetype": "text/x-python",
   "name": "python",
   "nbconvert_exporter": "python",
   "pygments_lexer": "ipython3",
   "version": "3.8.3"
  }
 },
 "nbformat": 4,
 "nbformat_minor": 4
}
