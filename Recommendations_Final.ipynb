{
 "cells": [
  {
   "cell_type": "markdown",
   "metadata": {},
   "source": [
    "This notebook allows you to get song recommendations given that you have a song that you already like (and that song is contained in my data). I encourage you to look through the functions in recommendation_engine.py if you would like to tweak more parameters."
   ]
  },
  {
   "cell_type": "code",
   "execution_count": 1,
   "metadata": {},
   "outputs": [],
   "source": [
    "import pandas as pd\n",
    "from gensim.models.doc2vec import Doc2Vec\n",
    "from recommendation_engine import *\n",
    "import ipywidgets as widgets\n",
    "from ipywidgets import interactive,Layout\n",
    "\n",
    "\"\"\"Load in all our data needed to make recommendations.\n",
    "\n",
    "    feature_df: contains all of our features extracted from lyrics, we will use these to compute similarity.\n",
    "    \n",
    "    model: pretrained doc2vec model, similarity scores are stored\n",
    "    \n",
    "    decode_dict: dictionary to decode our recommendations. Go from song_id --> song title, aritst\n",
    "    \n",
    "\"\"\"\n",
    "feature_df = pd.read_csv('song_features.csv',index_col=0)\n",
    "model = Doc2Vec.load('doc2vec_len100.model')\n",
    "decode_df = pd.read_csv('song_ids_full.txt',sep='\\t')\n",
    "decode_dict = decoder(decode_df)\n",
    "\n",
    "artists = sorted(decode_df['artist_name'].unique().tolist())\n",
    "songs = sorted(decode_df['song_title'].tolist())"
   ]
  },
  {
   "cell_type": "markdown",
   "metadata": {},
   "source": [
    "Here we will just create a couple widgets to help with using the recommender. These cells will need to be run with a fresh kernel."
   ]
  },
  {
   "cell_type": "code",
   "execution_count": 2,
   "metadata": {
    "scrolled": true
   },
   "outputs": [
    {
     "data": {
      "application/vnd.jupyter.widget-view+json": {
       "model_id": "1c81ad6a69d047b5a0201db1aa1a37cc",
       "version_major": 2,
       "version_minor": 0
      },
      "text/plain": [
       "interactive(children=(Select(description='x', layout=Layout(height='300px'), options=('03 Greedo', '070 Shake'…"
      ]
     },
     "metadata": {},
     "output_type": "display_data"
    }
   ],
   "source": [
    "def view_artist(x=''):\n",
    "    if x=='': return \n",
    "    else: return decode_df[(decode_df.artist_name==x)]\n",
    "    \n",
    "\n",
    "    \n",
    "\n",
    "artist_sel = widgets.Select(options=artists)\n",
    "artist_sel.layout.height='300px'\n",
    "interactive(view_artist, x=artist_sel)\n",
    "\n"
   ]
  },
  {
   "cell_type": "markdown",
   "metadata": {},
   "source": [
    "After selecting an artist from above, rerun the cell below to see their available songs. Hopefully I can get these widgets linked together soon. Linking at the moment was crashing jupyter."
   ]
  },
  {
   "cell_type": "code",
   "execution_count": 5,
   "metadata": {
    "scrolled": true
   },
   "outputs": [
    {
     "data": {
      "application/vnd.jupyter.widget-view+json": {
       "model_id": "e5328dd0cc7e4f14850738ed06d0148e",
       "version_major": 2,
       "version_minor": 0
      },
      "text/plain": [
       "interactive(children=(Select(description='x', layout=Layout(height='300px'), options=('365', 'Addicted', 'All …"
      ]
     },
     "metadata": {},
     "output_type": "display_data"
    }
   ],
   "source": [
    "def view_song(x=''):\n",
    "    if x=='': return \n",
    "    else: return decode_df[(decode_df.song_title==x)]\n",
    "    \n",
    "song_sel = widgets.Select(options=decode_df[(decode_df.artist_name==artist_sel.value)]['song_title'].to_list())\n",
    "song_sel.layout.height='300px'\n",
    "interactive(view_song, x=song_sel)"
   ]
  },
  {
   "cell_type": "markdown",
   "metadata": {},
   "source": [
    "Tweak the parameters! (Don't forget that the doc2vec model you choose also impacts what songs are returned)\n",
    "\n",
    "- feature_importance is the weight we put on similarities found from our extracted features (syllables per second, sentiment,etc).\n",
    "\n",
    "- doc_importance is the weight we put on the similarities found from our doc2vec model.\n",
    "\n",
    "- std_drop drops songs with features that are >3 stds from our mean, mostly used to exclude non-songs\n",
    "\n",
    "- time_exclusion will drop songs if they don't have a recorded duration. This is also helpful in dropping non-songs. If time_exclusion = False, time based features are removed from similarity scoring. If the initial song has no duration, this defaults to False\n",
    "\n",
    "- songs_returned: number of songs to be recommended"
   ]
  },
  {
   "cell_type": "code",
   "execution_count": 6,
   "metadata": {},
   "outputs": [
    {
     "name": "stdout",
     "output_type": "stream",
     "text": [
      "Recommendations for Candy Paint by DJ Khaled\n",
      "\n",
      "Try out 'Keep On Pushin' by King Chip\n",
      "Try out 'Ridin’ Slow' by Bun B\n",
      "Try out 'Cadillac & Benz' by Chamillionaire\n",
      "Try out 'Recognize A Playa' by Slim Thug\n",
      "Try out '30 Inches' by Juicy J\n"
     ]
    }
   ],
   "source": [
    "\n",
    "feature_importance=0.5\n",
    "doc_importance = 0.5\n",
    "std_drop=3\n",
    "time_exclusion=True\n",
    "songs_returned = 5\n",
    "\n",
    "song_id = decode_df[(decode_df.artist_name==artist_sel.value)&(decode_df.song_title==song_sel.value)]['song_id'].values[0]\n",
    "feature_df = clean_features(feature_df,std_drop=std_drop)\n",
    "similarities1 = feature_similarity(song_id,feature_df,time_exclusion=time_exclusion, std_drop=std_drop)\n",
    "similarities2 = similarity_df(similarities1,model,song_id,feature_importance=feature_importance,doc_importance=doc_importance)\n",
    "recommend(similarities2,decode_dict,song_id,n=songs_returned)"
   ]
  },
  {
   "cell_type": "code",
   "execution_count": null,
   "metadata": {},
   "outputs": [],
   "source": []
  }
 ],
 "metadata": {
  "kernelspec": {
   "display_name": "Python 3",
   "language": "python",
   "name": "python3"
  },
  "language_info": {
   "codemirror_mode": {
    "name": "ipython",
    "version": 3
   },
   "file_extension": ".py",
   "mimetype": "text/x-python",
   "name": "python",
   "nbconvert_exporter": "python",
   "pygments_lexer": "ipython3",
   "version": "3.8.3"
  }
 },
 "nbformat": 4,
 "nbformat_minor": 4
}
