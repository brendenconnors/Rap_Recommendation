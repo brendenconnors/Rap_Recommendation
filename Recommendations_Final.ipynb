{
 "cells": [
  {
   "cell_type": "code",
   "execution_count": 38,
   "metadata": {},
   "outputs": [],
   "source": [
    "import pandas as pd\n",
    "from gensim.models.doc2vec import Doc2Vec\n",
    "from recommendation_engine import *\n",
    "import ipywidgets as widgets\n",
    "from ipywidgets import interactive,Layout\n",
    "\n",
    "\n",
    "feature_df = pd.read_csv('song_features.csv',index_col=0)\n",
    "model = Doc2Vec.load('doc2vec_len100.model')\n",
    "decode_df = pd.read_csv('song_ids_full.txt',sep='\\t')\n",
    "decode_dict = decoder(decode_df)\n",
    "\n",
    "artists = sorted(decode_df['artist_name'].unique().tolist())\n",
    "songs = sorted(decode_df['song_title'].tolist())"
   ]
  },
  {
   "cell_type": "markdown",
   "metadata": {},
   "source": [
    "Initialize some of our parameters."
   ]
  },
  {
   "cell_type": "code",
   "execution_count": 39,
   "metadata": {},
   "outputs": [],
   "source": [
    "\"\"\"These weight the relative importance we put on each in determining similarity. \n",
    "\n",
    "feature_importance is the weight we put on similarities found from our extracted\n",
    "features (syllables per second, sentiment,etc).\n",
    "\n",
    "doc_importance is the weight we put on the similarities found from our doc2vec model.\n",
    "\"\"\"\n",
    "\n",
    "feature_importance=0.5\n",
    "doc_importance = 0.5"
   ]
  },
  {
   "cell_type": "code",
   "execution_count": 23,
   "metadata": {
    "scrolled": true
   },
   "outputs": [
    {
     "data": {
      "application/vnd.jupyter.widget-view+json": {
       "model_id": "383fcf61ae1a4943abd6fe9eac78aca4",
       "version_major": 2,
       "version_minor": 0
      },
      "text/plain": [
       "interactive(children=(Select(description='x', layout=Layout(height='300px'), options=('03 Greedo', '070 Shake'…"
      ]
     },
     "metadata": {},
     "output_type": "display_data"
    }
   ],
   "source": [
    "def view_artist(x=''):\n",
    "    if x=='': return \n",
    "    else: return decode_df[(decode_df.artist_name==x)]\n",
    "    \n",
    "\n",
    "    \n",
    "\n",
    "artist_sel = widgets.Select(options=artists)\n",
    "artist_sel.layout.height='300px'\n",
    "interactive(view_artist, x=artist_sel)\n",
    "\n",
    "#song_sel = widgets.Select(options=decode_df[decode_df.artist_name==artist_sel.value]['song_title'].to_list())"
   ]
  },
  {
   "cell_type": "markdown",
   "metadata": {},
   "source": [
    "After selecting an artist from above, rerun the cell below to see their available songs. Hopefully I can get these widgets linked together soon. Linking at the moment was crashing jupyter."
   ]
  },
  {
   "cell_type": "code",
   "execution_count": 50,
   "metadata": {
    "scrolled": false
   },
   "outputs": [
    {
     "data": {
      "application/vnd.jupyter.widget-view+json": {
       "model_id": "87b33ada92e0452faa69d8f351580bdf",
       "version_major": 2,
       "version_minor": 0
      },
      "text/plain": [
       "interactive(children=(Select(description='x', layout=Layout(height='300px'), options=('1017 Lifestyle', '10 Ye…"
      ]
     },
     "metadata": {},
     "output_type": "display_data"
    }
   ],
   "source": [
    "def view_song(x=''):\n",
    "    if x=='': return \n",
    "    else: return decode_df[(decode_df.song_title==x)]\n",
    "    \n",
    "song_sel = widgets.Select(options=decode_df[(decode_df.artist_name==artist_sel.value)]['song_title'].to_list())\n",
    "song_sel.layout.height='300px'\n",
    "interactive(view_song, x=song_sel)"
   ]
  },
  {
   "cell_type": "code",
   "execution_count": 51,
   "metadata": {},
   "outputs": [
    {
     "name": "stdout",
     "output_type": "stream",
     "text": [
      "Recommendations for Do U Love Me? by Young Thug\n",
      "\n",
      "Try out 'Feel Good' by Lil Durk\n",
      "Try out 'Ay Ya Ya Ya' by Yella Beezy\n",
      "Try out 'Wet (She Got That…)' by YFN Lucci\n",
      "Try out 'You in Luv wit Her' by 2 Chainz\n",
      "Try out 'All Nighter' by Doja Cat\n"
     ]
    }
   ],
   "source": [
    "song_id = decode_df[(decode_df.artist_name==artist_sel.value)&(decode_df.song_title==song_sel.value)]['song_id'].values[0]\n",
    "feature_df = clean_features(feature_df)\n",
    "similarities1 = feature_similarity(song_id,feature_df)\n",
    "similarities2 = similarity_df(similarities1,model,song_id,feature_importance=feature_importance,doc_importance=doc_importance)\n",
    "recommend(similarities2,decode_dict,song_id)"
   ]
  },
  {
   "cell_type": "code",
   "execution_count": 2,
   "metadata": {},
   "outputs": [
    {
     "name": "stdout",
     "output_type": "stream",
     "text": [
      "Recommendations for Let It Go by Ray J\n",
      "\n",
      "Try out Come Dance With Me by Sleepy Brown\n",
      "Try out Hump Bounce by R. Kelly\n",
      "Try out Dance With Me by Sleepy Brown\n",
      "Try out Come Baby Come (Ultimix) by K7\n",
      "Try out Afrika shox by Afrika Bambaataa\n"
     ]
    }
   ],
   "source": [
    "song_id = 1000113\n",
    "feature_df = clean_features(feature_df)\n",
    "similarities1 = feature_similarity(song_id,feature_df)\n",
    "similarities2 = similarity_df(similarities1,model,song_id)\n",
    "recommend(similarities2,decode_dict,song_id)"
   ]
  }
 ],
 "metadata": {
  "kernelspec": {
   "display_name": "Python 3",
   "language": "python",
   "name": "python3"
  },
  "language_info": {
   "codemirror_mode": {
    "name": "ipython",
    "version": 3
   },
   "file_extension": ".py",
   "mimetype": "text/x-python",
   "name": "python",
   "nbconvert_exporter": "python",
   "pygments_lexer": "ipython3",
   "version": "3.8.3"
  }
 },
 "nbformat": 4,
 "nbformat_minor": 4
}
